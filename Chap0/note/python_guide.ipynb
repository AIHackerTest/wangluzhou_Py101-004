{
 "cells": [
  {
   "cell_type": "markdown",
   "metadata": {},
   "source": [
    "# Python要素"
   ]
  },
  {
   "cell_type": "markdown",
   "metadata": {},
   "source": [
    "学习Python有哪些要素？\n",
    "很多时候当我们一开始就接触编程语言的时候，总是自然而然地去买一本砖头书，然后开始啃语法。这种模式最早出现在我们的大学时代学习C语言的时候，语法始终都是重中之重。我承认C语言或者C++的确需要扎实的语法基础，甚至还要有扎实的内存模型基础，否则代码是不可能写得好的。但是Python已然不同了。诚然所有编程语言都有着相同的要素。从变量定义，算术运算这些基础要素，到类型推导，lambda语句等进阶要素，所有编程语言都遵循同一套要素机制。但其实他们其实也是不同的，当我们在学习C++和Python的时候，目的是不一样的。C++是一种底层语言，我们去啃枯燥庞大的语法和内存模型是为了从深层次理解编程语言和操作系统之间的联系，其对应的实际项目往往都是一些底层模块，但是当我们学习Python的时候，显性的应用才是最大的目的。我们不仅需要语法，更需要了解环境和工具。整个开发形式远比那些底层语言的“编译+运行”要丰富。我们可以在IPython实现类似Matlab那样实时输出，也可以像Java那样在IDE上开发面向对象的大项目，还可以像写博客一样在jupyter工具上体会书写和编程结合的快感。我们不再需要写任何我们想实现的功能，因为早已有大量的开源包为我们提供了这样的功能。\n",
    "\n",
    "面对这样的语言，我们如何调整我们的学习思路呢？我觉得我们可以分为三块。\n",
    "1. Python语法:\n",
    " - 变量定义\n",
    " - 算术运算\n",
    " - for循环语句，while循环语句\n",
    " - 函数定义，函数调用\n",
    " - 递归\n",
    " - 静态类型语言\n",
    " - 类型推导\n",
    " - lambda语句\n",
    " - 面向对象\n",
    " - 垃圾回收\n",
    " ...\n",
    "2. 环境:这一块画的时间整体应该是最少的，但是却总是最折腾人的，我们总是会遇到很多坑，而且很多新事物甚至让我一开始在认知上就无法接受。之所以把环境单独拎出来的原因，就是希望你在学习的时候能够首先重视这一块，从而可以在面对各种各样的配置和工具时，面对困难不至于焦躁不安。\n",
    " - Python编写环境：文本模式，IDE模式，Jupyter模式，IPython模式\n",
    " - 不同操作系统的配置\n",
    " - Python版本：Python2 和 Python3的差别\n",
    " - anaconda工具\n",
    " - virtualenv\n",
    " - pip和conda\n",
    " ...\n",
    "3. package包：学习python包的时间一点也不必学习语法的时间少。结合自己的背景专门去学习一些专用包。\n",
    " - 科学计算：numpy, scipy等\n",
    " - 时间序列处理：pandas\n",
    " - 爬虫：scrapy\n",
    " - 数据库处理：sqlalchemy\n",
    " \n",
    " ..."
   ]
  },
  {
   "cell_type": "markdown",
   "metadata": {},
   "source": [
    "# Python基础语法"
   ]
  },
  {
   "cell_type": "markdown",
   "metadata": {},
   "source": [
    "## Python的变量定义: 弱类型，无显式声明"
   ]
  },
  {
   "cell_type": "code",
   "execution_count": 2,
   "metadata": {
    "collapsed": true
   },
   "outputs": [],
   "source": [
    "cars = 100\n",
    "he = \"jack\"\n",
    "height = 184.5"
   ]
  },
  {
   "cell_type": "markdown",
   "metadata": {},
   "source": [
    "## Python 循环迭代: for和while，但是没有do while"
   ]
  },
  {
   "cell_type": "code",
   "execution_count": 3,
   "metadata": {
    "collapsed": true
   },
   "outputs": [],
   "source": [
    "# for 迭代\n",
    "for i in [1,2,3,4,5]:\n",
    "    pass\n",
    "# while 迭代\n",
    "i = 1\n",
    "while i < 6:\n",
    "    i += 1"
   ]
  },
  {
   "cell_type": "markdown",
   "metadata": {},
   "source": [
    "## Python列表：列表不再是过去的数组或者向量，没有单一类型限制"
   ]
  },
  {
   "cell_type": "code",
   "execution_count": 4,
   "metadata": {
    "collapsed": true
   },
   "outputs": [],
   "source": [
    "list_a = [1,2,4,5,\"a\"]"
   ]
  },
  {
   "cell_type": "markdown",
   "metadata": {},
   "source": [
    "# Python 环境"
   ]
  },
  {
   "cell_type": "markdown",
   "metadata": {},
   "source": [
    "# Python 包"
   ]
  }
 ],
 "metadata": {
  "kernelspec": {
   "display_name": "Python 3",
   "language": "python",
   "name": "python3"
  },
  "language_info": {
   "codemirror_mode": {
    "name": "ipython",
    "version": 3
   },
   "file_extension": ".py",
   "mimetype": "text/x-python",
   "name": "python",
   "nbconvert_exporter": "python",
   "pygments_lexer": "ipython3",
   "version": "3.6.2"
  }
 },
 "nbformat": 4,
 "nbformat_minor": 2
}
